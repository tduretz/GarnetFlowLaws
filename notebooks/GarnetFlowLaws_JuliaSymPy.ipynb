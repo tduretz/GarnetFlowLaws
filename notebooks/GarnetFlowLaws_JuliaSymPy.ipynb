{
 "cells": [
  {
   "cell_type": "code",
   "execution_count": 2,
   "metadata": {},
   "outputs": [
    {
     "data": {
      "text/latex": [
       "$\\left(\\frac{f^{- r} ε̇ e^{\\frac{E + P V}{R T}}}{B}\\right)^{\\frac{1}{n}}$"
      ],
      "text/plain": [
       "       ________________\n",
       "      /        E + P*V \n",
       "     /         ------- \n",
       "    /    -r      R*T   \n",
       "   /   f  *ε̇*e        \n",
       "n /     -------------- \n",
       "\\/            B        "
      ]
     },
     "metadata": {},
     "output_type": "display_data"
    }
   ],
   "source": [
    "using SymPy\n",
    "@vars R n T P E V B C ϕ ε̇ σ f r\n",
    "F = ε̇ - B*σ^n*f^r*exp(- (E + P*V)/R/T)\n",
    "σv = solve(F, σ)\n",
    "display(σv[1])"
   ]
  }
 ],
 "metadata": {
  "kernelspec": {
   "display_name": "Julia 1.9.0",
   "language": "julia",
   "name": "julia-1.9"
  },
  "language_info": {
   "file_extension": ".jl",
   "mimetype": "application/julia",
   "name": "julia",
   "version": "1.9.0"
  }
 },
 "nbformat": 4,
 "nbformat_minor": 2
}
