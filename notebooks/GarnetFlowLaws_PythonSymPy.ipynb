{
 "cells": [
  {
   "cell_type": "code",
   "execution_count": 27,
   "metadata": {},
   "outputs": [],
   "source": [
    "from sympy import *\n",
    "e, B, sig, n, fH2O, r, E, P, V, R, T, d, m = symbols('e, B, sig, n, fH2O, r, E, P, V, R, T, d, m ')\n",
    "Coh, phi = symbols('Coh,phi')"
   ]
  },
  {
   "cell_type": "code",
   "execution_count": 28,
   "metadata": {},
   "outputs": [
    {
     "data": {
      "text/latex": [
       "$\\displaystyle \\left(\\frac{e fH2O^{- r} e^{\\frac{E + P V}{R T}}}{B}\\right)^{\\frac{1}{n}}$"
      ],
      "text/plain": [
       "(e*exp((E + P*V)/(R*T))/(B*fH2O**r))**(1/n)"
      ]
     },
     "execution_count": 28,
     "metadata": {},
     "output_type": "execute_result"
    }
   ],
   "source": [
    "F = e - B*sig**n*fH2O**r*exp(- (E + P*V)/R/T)\n",
    "sig_duc = solve(F, sig)[0]\n",
    "sig_duc"
   ]
  },
  {
   "cell_type": "code",
   "execution_count": 29,
   "metadata": {},
   "outputs": [
    {
     "data": {
      "text/plain": [
       "'(e .* fH2O .^ (-r) .* exp((E + P .* V) ./ (R .* T)) ./ B) .^ (1 ./ n)'"
      ]
     },
     "execution_count": 29,
     "metadata": {},
     "output_type": "execute_result"
    }
   ],
   "source": [
    "julia_code(sig_duc)"
   ]
  },
  {
   "cell_type": "code",
   "execution_count": 30,
   "metadata": {},
   "outputs": [
    {
     "data": {
      "text/latex": [
       "$\\displaystyle \\left(\\frac{T d^{m} e fH2O^{- r} e^{\\frac{E + P V}{R T}}}{B}\\right)^{\\frac{1}{n}}$"
      ],
      "text/plain": [
       "(T*d**m*e*exp((E + P*V)/(R*T))/(B*fH2O**r))**(1/n)"
      ]
     },
     "execution_count": 30,
     "metadata": {},
     "output_type": "execute_result"
    }
   ],
   "source": [
    "# Flow law from Wang and Ji 2000\n",
    "F = e - B/T/d**m*sig**n*fH2O**r*exp(- (E + P*V)/R/T)\n",
    "sig_duc = solve(F, sig)[0]\n",
    "sig_duc"
   ]
  },
  {
   "cell_type": "code",
   "execution_count": 31,
   "metadata": {},
   "outputs": [],
   "source": [
    "# s_bri = Coh*cos(phi) + P*sin(phi)\n",
    "# f = sig_duc - s_bri\n",
    "# julia_code(solve(f, T)[0])"
   ]
  },
  {
   "cell_type": "code",
   "execution_count": 37,
   "metadata": {},
   "outputs": [
    {
     "data": {
      "text/plain": [
       "'(-A .* a .^ 2 .* sin(a .* x + b .* y) - A .* b .^ 2 .* sin(a .* x + b .* y) - B .* c .^ 2 .* cos(c .* x + d .* y) - B .* d .^ 2 .* cos(c .* x + d .* y) + (A .* a .* cos(a .* x + b .* y) - B .* c .* sin(c .* x + d .* y)) .^ 2 + (A .* b .* cos(a .* x + b .* y) - B .* d .* sin(c .* x + d .* y)) .^ 2) .* exp(A .* sin(a .* x + b .* y) + B .* cos(c .* x + d .* y))'"
      ]
     },
     "execution_count": 37,
     "metadata": {},
     "output_type": "execute_result"
    }
   ],
   "source": [
    "x, y, a,b,c,d,A,B=symbols('x, y, a,b,c,d,A,B')\n",
    "u = exp(A*sin(a*x + b*y) + B*(cos(c*x + d*y)))\n",
    "b = u.diff(x).diff(x) + u.diff(y).diff(y)\n",
    "b = b.simplify()\n",
    "julia_code(b)\n"
   ]
  },
  {
   "cell_type": "code",
   "execution_count": 41,
   "metadata": {},
   "outputs": [
    {
     "data": {
      "text/plain": [
       "'(-A .* a .* cos(a .* x + b .* y) + B .* c .* sin(c .* x + d .* y)) .* exp(A .* sin(a .* x + b .* y) + B .* cos(c .* x + d .* y))'"
      ]
     },
     "execution_count": 41,
     "metadata": {},
     "output_type": "execute_result"
    }
   ],
   "source": [
    " qx = -u.diff(x)\n",
    " julia_code(qx.simplify())"
   ]
  },
  {
   "cell_type": "code",
   "execution_count": 42,
   "metadata": {},
   "outputs": [
    {
     "data": {
      "text/plain": [
       "'(-A .* b .* cos(a .* x + b .* y) + B .* d .* sin(c .* x + d .* y)) .* exp(A .* sin(a .* x + b .* y) + B .* cos(c .* x + d .* y))'"
      ]
     },
     "execution_count": 42,
     "metadata": {},
     "output_type": "execute_result"
    }
   ],
   "source": [
    " qy = -u.diff(y)\n",
    " julia_code(qy.simplify())"
   ]
  },
  {
   "cell_type": "code",
   "execution_count": null,
   "metadata": {},
   "outputs": [],
   "source": []
  }
 ],
 "metadata": {
  "kernelspec": {
   "display_name": "Python 3",
   "language": "python",
   "name": "python3"
  },
  "language_info": {
   "codemirror_mode": {
    "name": "ipython",
    "version": 3
   },
   "file_extension": ".py",
   "mimetype": "text/x-python",
   "name": "python",
   "nbconvert_exporter": "python",
   "pygments_lexer": "ipython3",
   "version": "3.9.6"
  },
  "orig_nbformat": 4
 },
 "nbformat": 4,
 "nbformat_minor": 2
}
